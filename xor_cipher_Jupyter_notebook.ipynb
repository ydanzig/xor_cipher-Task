{
 "cells": [
  {
   "cell_type": "markdown",
   "id": "516f2894",
   "metadata": {},
   "source": [
    "1.\tWrite a function xor_decrypt(encrypted_text, key) that gets a list of numbers and a key (as string) and decrypts this list into a text (as string again). "
   ]
  },
  {
   "cell_type": "code",
   "execution_count": 1,
   "id": "e8be4470",
   "metadata": {},
   "outputs": [],
   "source": [
    "def xor_decrypt(encrypted_text, key):\n",
    "    # Convert the key to a list of ASCII codes\n",
    "    key_codes = [ord(c) for c in key]\n",
    "    # Decrypt each byte of the encrypted text using the key\n",
    "    decrypted_bytes = [byte ^ key_codes[i % len(key_codes)] for i, byte in enumerate(encrypted_text)]\n",
    "    # Convert the decrypted bytes to a string\n",
    "    decrypted_text = ''.join([chr(byte) for byte in decrypted_bytes])\n",
    "    return decrypted_text"
   ]
  },
  {
   "cell_type": "markdown",
   "id": "d945dd7e",
   "metadata": {},
   "source": [
    "Function explanation:\n"
   ]
  },
  {
   "cell_type": "raw",
   "id": "62791b36",
   "metadata": {},
   "source": [
    "first we convert the key which is in text format to a list of decimal ASCII representation using the ord() function\n",
    "for example for key=\"yz\", variable key_code=[121,122]\n",
    "\n",
    "then we need to xor (^) every value in the encrypted text list with the key_codes in a cyclic way...\n",
    "for example for encrypted_text = [10, 11, 12, 13] decrypted_bytes = [10^121, 11^122, 12^121, 13^122]\n",
    "an elegant way is to use the modulu operand - lets see the modulu result for a key_length = 2 and a encrypted_text in length of 7"
   ]
  },
  {
   "cell_type": "code",
   "execution_count": 2,
   "id": "1409ad9c",
   "metadata": {
    "scrolled": true
   },
   "outputs": [
    {
     "name": "stdout",
     "output_type": "stream",
     "text": [
      "0 % 2 = 0\n",
      "1 % 2 = 1\n",
      "2 % 2 = 0\n",
      "3 % 2 = 1\n",
      "4 % 2 = 0\n",
      "5 % 2 = 1\n",
      "6 % 2 = 0\n"
     ]
    }
   ],
   "source": [
    "key_length = 2\n",
    "encrypted_text_length = 7\n",
    "for i in range(encrypted_text_length):\n",
    "    print(i, \"% \" + str(key_length) + \" =\", i % key_length)"
   ]
  },
  {
   "cell_type": "raw",
   "id": "3322d19e",
   "metadata": {},
   "source": [
    "in this way we alternate between 0 and 1 we can use then use the indexes to get the values we need from  key_codes list"
   ]
  },
  {
   "cell_type": "raw",
   "id": "815d7c44",
   "metadata": {},
   "source": [
    "Finally, we convert the decrypted bytes to a string using the chr function, and return the resulting string"
   ]
  },
  {
   "cell_type": "markdown",
   "id": "83f6dbb9",
   "metadata": {},
   "source": [
    "function example:"
   ]
  },
  {
   "cell_type": "code",
   "execution_count": 3,
   "id": "b3b21406",
   "metadata": {},
   "outputs": [
    {
     "data": {
      "text/plain": [
       "'abcde'"
      ]
     },
     "execution_count": 3,
     "metadata": {},
     "output_type": "execute_result"
    }
   ],
   "source": [
    "xor_decrypt([24,24,26,30,28], \"yz\")"
   ]
  },
  {
   "cell_type": "markdown",
   "id": "e89e5bb7",
   "metadata": {},
   "source": [
    "2.\tWrite a function guess_key(encrypted_text, key_size) that tries to break a XOR encryption by a brute-force attack under the following assumptions:\n",
    "a.\tThe decrypted text contains a standard English text containing only letters, numbers, punctuation marks, etc.<br>\n",
    "b.\tThe encryption key consists of key_size lower-case English characters.<br>\n",
    "\n",
    "\tThe function will return a list of possible matches as pairs of keys and\n",
    "\tpossibly-decrypted text.\n"
   ]
  },
  {
   "cell_type": "raw",
   "id": "efb79686",
   "metadata": {},
   "source": [
    "importing necessary modules:"
   ]
  },
  {
   "cell_type": "code",
   "execution_count": 4,
   "id": "4a885a66",
   "metadata": {},
   "outputs": [],
   "source": [
    "import itertools\n",
    "import string\n",
    "import re"
   ]
  },
  {
   "cell_type": "markdown",
   "id": "00fad699",
   "metadata": {},
   "source": [
    "First we will build a function generate_keys(key_size) that will return a list of all possible combination of the keys:"
   ]
  },
  {
   "cell_type": "code",
   "execution_count": 5,
   "id": "b37bfb82",
   "metadata": {},
   "outputs": [],
   "source": [
    "def generate_keys(key_size, chars = string.ascii_lowercase):\n",
    "    #The encryption key consists of key_size lower-case English characters - 'abcdefghijklmnopqrstuvwxyz' (26 letters)\n",
    "    all_possible_combinations = itertools.product(chars, repeat=key_size) #Iterator with all possible combinations of chars\n",
    "    return [''.join(key) for key in all_possible_combinations] #All possible combinations key result in a list"
   ]
  },
  {
   "cell_type": "markdown",
   "id": "6aa3dccf",
   "metadata": {},
   "source": [
    "Example of first 10 elements for keysize = 2:"
   ]
  },
  {
   "cell_type": "code",
   "execution_count": 6,
   "id": "841b0f96",
   "metadata": {},
   "outputs": [
    {
     "data": {
      "text/plain": [
       "['aa', 'ab', 'ac', 'ad', 'ae', 'af', 'ag', 'ah', 'ai', 'aj']"
      ]
     },
     "execution_count": 6,
     "metadata": {},
     "output_type": "execute_result"
    }
   ],
   "source": [
    "generate_keys(2)[0:10]"
   ]
  },
  {
   "cell_type": "markdown",
   "id": "dbbec6da",
   "metadata": {},
   "source": [
    "The number of elements in the list can be given by the equation: len(chars) ** keysize:"
   ]
  },
  {
   "cell_type": "code",
   "execution_count": 6,
   "id": "91388a74",
   "metadata": {},
   "outputs": [
    {
     "data": {
      "text/plain": [
       "17576"
      ]
     },
     "execution_count": 6,
     "metadata": {},
     "output_type": "execute_result"
    }
   ],
   "source": [
    "len(generate_keys(3))"
   ]
  },
  {
   "cell_type": "code",
   "execution_count": 7,
   "id": "6eb834c5",
   "metadata": {},
   "outputs": [
    {
     "data": {
      "text/plain": [
       "17576"
      ]
     },
     "execution_count": 7,
     "metadata": {},
     "output_type": "execute_result"
    }
   ],
   "source": [
    "26**3"
   ]
  },
  {
   "cell_type": "markdown",
   "id": "ca7cc34c",
   "metadata": {},
   "source": [
    "As you can see the number of chars of the original message and the length of the secret key has a factor of how many results we need to filter out."
   ]
  },
  {
   "cell_type": "markdown",
   "id": "c27aaee9",
   "metadata": {},
   "source": [
    "The generated keys above is an input to the guess_key() function that tries to decrypt an encrypt message.\n",
    "in my answer i wrote 3 functions: <br>\n",
    "guess_key_re_filter() -  that uses a regular expression filter <br> guess_key_space_filter() -  uses space counter filter.<br>\n",
    "guess_key() -  combine the two filters"
   ]
  },
  {
   "cell_type": "code",
   "execution_count": 7,
   "id": "9513f24b",
   "metadata": {},
   "outputs": [],
   "source": [
    "def guess_key_re_filter(encrypted_text, key_size, filter_result=True, pattern = r'^[a-zA-Z0-9 \\.,\\?!\\'\"\\-\\–;:\\(\\)]+$'):\n",
    "    possible_keys = []\n",
    "    try:\n",
    "        for key in generate_keys(key_size):\n",
    "            decrypted_text = xor_decrypt(encrypted_text, key)\n",
    "            if filter_result:\n",
    "                if re.match(pattern, decrypted_text):\n",
    "                    possible_keys.append((key, decrypted_text))\n",
    "            else:\n",
    "                possible_keys.append((key, decrypted_text))\n",
    "    except Exception as e:\n",
    "        print(f\"An error occurred: {e}\")\n",
    "    return possible_keys"
   ]
  },
  {
   "cell_type": "code",
   "execution_count": 113,
   "id": "c74712b6",
   "metadata": {},
   "outputs": [],
   "source": [
    "def guess_key_space_filter(encrypted_text, key_size, filter_result=True, spaces_th = 140):\n",
    "    possible_keys = []\n",
    "    try:\n",
    "        for key in generate_keys(key_size):\n",
    "            decrypted_text = xor_decrypt(encrypted_text, key)\n",
    "            if filter_result:\n",
    "                if decrypted_text.count(\" \") >= spaces_th:\n",
    "                    possible_keys.append((key, decrypted_text))\n",
    "            else:\n",
    "                possible_keys.append((key, decrypted_text))\n",
    "    except Exception as e:\n",
    "        print(f\"An error occurred: {e}\")\n",
    "        raise\n",
    "    return possible_keys"
   ]
  },
  {
   "cell_type": "code",
   "execution_count": 105,
   "id": "18275a91",
   "metadata": {},
   "outputs": [],
   "source": [
    "def guess_key(encrypted_text, key_size, re_filter=False, re_pattern=r'^[a-zA-Z0-9 \\.,\\?!\\'\"\\-\\–;:\\(\\)]+$', space_filter=False, spaces_th=140):\n",
    "    possible_keys = []\n",
    "    try:\n",
    "        for key in generate_keys(key_size):\n",
    "            decrypted_text = xor_decrypt(encrypted_text, key)\n",
    "            if (re_filter and re.match(re_pattern, decrypted_text)) or (space_filter and decrypted_text.count(\" \") >= spaces_th):\n",
    "                possible_keys.append((key, decrypted_text))\n",
    "    except Exception as e:\n",
    "        print(f\"An error occurred: {e}\")\n",
    "    return possible_keys"
   ]
  },
  {
   "cell_type": "markdown",
   "id": "2b1e17dd",
   "metadata": {},
   "source": [
    "3.Run your result on the “cipher.txt” file provided with key size of 3. <br>\n",
    "the result (after filtering) should be a readable English text"
   ]
  },
  {
   "cell_type": "code",
   "execution_count": 92,
   "id": "1828ef95",
   "metadata": {},
   "outputs": [],
   "source": [
    "file_path = r\"C:\\Users\\JonathanDanzig\\Downloads\\q\\cipher.txt\""
   ]
  },
  {
   "cell_type": "code",
   "execution_count": 93,
   "id": "ce00202b",
   "metadata": {},
   "outputs": [],
   "source": [
    "def encrypted_textfile_to_list(filename):\n",
    "    with open(filename, 'r') as f:\n",
    "        encrypted_text = f.read().strip().split(',') #list of numbers (presented as text).\n",
    "        encrypted_list = [int(x) for x in encrypted_text] #list of numbers int casted.\n",
    "    return encrypted_list"
   ]
  },
  {
   "cell_type": "code",
   "execution_count": 94,
   "id": "b66d8472",
   "metadata": {},
   "outputs": [],
   "source": [
    "encrypted_message = encrypted_textfile_to_list(file_path)"
   ]
  },
  {
   "cell_type": "markdown",
   "id": "242239c5",
   "metadata": {},
   "source": [
    "First 10 elements in the cipher.txt file:"
   ]
  },
  {
   "cell_type": "code",
   "execution_count": 95,
   "id": "335c3cfb",
   "metadata": {},
   "outputs": [
    {
     "name": "stdout",
     "output_type": "stream",
     "text": [
      "[46, 14, 14, 1, 79, 15, 8, 79, 43, 30, 7, 15, 12, 10, 14, 67, 79, 49, 2, 2]\n"
     ]
    }
   ],
   "source": [
    "print(encrypted_message[0:20])"
   ]
  },
  {
   "cell_type": "code",
   "execution_count": 13,
   "id": "bf16b26a",
   "metadata": {},
   "outputs": [],
   "source": [
    "#Finding results with re-filter:\n",
    "L1 = guess_key_re_filter(encrypted_message, key_size=3, filter_result=True)"
   ]
  },
  {
   "cell_type": "code",
   "execution_count": 14,
   "id": "354f1c13",
   "metadata": {},
   "outputs": [
    {
     "data": {
      "text/plain": [
       "[('mob',\n",
       "  \"Call me Ishmael. Some years ago--never mind how long precisely--having little or no money in my purse, and nothing particular to interest me on shore, I thought I would sail about a little and see the watery part of the world. It is a way I have of driving off the spleen and regulating the circulation. Whenever I find myself growing grim about the mouth; whenever it is a damp, drizzly November in my soul; whenever I find myself involuntarily pausing before coffin warehouses, and bringing up the rear of every funeral I meet; and especially whenever my hypos get such an upper hand of me, that it requires a strong moral principle to prevent me from deliberately stepping into the street, and methodically knocking people's hats off--then, I account it high time to get to sea as soon as I can. This is my substitute for pistol and ball. With a philosophical flourish Cato throws himself upon his sword; I quietly take to the ship. There is nothing surprising in this. If they but knew it, almost all men in their degree, some time or other, cherish very nearly the same feelings towards the ocean with me.\")]"
      ]
     },
     "execution_count": 14,
     "metadata": {},
     "output_type": "execute_result"
    }
   ],
   "source": [
    "L1"
   ]
  },
  {
   "cell_type": "code",
   "execution_count": 31,
   "id": "4cff3f73",
   "metadata": {},
   "outputs": [],
   "source": [
    "#Finding results with space-filter:"
   ]
  },
  {
   "cell_type": "markdown",
   "id": "144cbdcf",
   "metadata": {},
   "source": [
    "The average word in the English language is 4.7 characters => a guess for spase_th would be 0.7*(len(encrypted_message)/4.7-1)"
   ]
  },
  {
   "cell_type": "code",
   "execution_count": 37,
   "id": "17605ee6",
   "metadata": {},
   "outputs": [
    {
     "data": {
      "text/plain": [
       "165"
      ]
     },
     "execution_count": 37,
     "metadata": {},
     "output_type": "execute_result"
    }
   ],
   "source": [
    " round(0.7*(len(encrypted_message)/4.7-1))"
   ]
  },
  {
   "cell_type": "code",
   "execution_count": 38,
   "id": "4636640f",
   "metadata": {},
   "outputs": [],
   "source": [
    "L2 = guess_key_space_filter(encrypted_message, key_size=3, filter_result=True, spaces_th=165)"
   ]
  },
  {
   "cell_type": "code",
   "execution_count": 39,
   "id": "7912bd34",
   "metadata": {},
   "outputs": [
    {
     "name": "stdout",
     "output_type": "stream",
     "text": [
      "Call me Ishmael. Some years ago--never mind how long precisely--having little or no money in my purse, and nothing particular to interest me on shore, I thought I would sail about a little and see the watery part of the world. It is a way I have of driving off the spleen and regulating the circulation. Whenever I find myself growing grim about the mouth; whenever it is a damp, drizzly November in my soul; whenever I find myself involuntarily pausing before coffin warehouses, and bringing up the rear of every funeral I meet; and especially whenever my hypos get such an upper hand of me, that it requires a strong moral principle to prevent me from deliberately stepping into the street, and methodically knocking people's hats off--then, I account it high time to get to sea as soon as I can. This is my substitute for pistol and ball. With a philosophical flourish Cato throws himself upon his sword; I quietly take to the ship. There is nothing surprising in this. If they but knew it, almost all men in their degree, some time or other, cherish very nearly the same feelings towards the ocean with me.\n"
     ]
    }
   ],
   "source": [
    "#decrypt-message\n",
    "print(L2[0][1])"
   ]
  },
  {
   "cell_type": "code",
   "execution_count": 40,
   "id": "29f124c6",
   "metadata": {},
   "outputs": [
    {
     "name": "stdout",
     "output_type": "stream",
     "text": [
      "mob\n"
     ]
    }
   ],
   "source": [
    "#key that we found:\n",
    "print(L2[0][0])"
   ]
  },
  {
   "cell_type": "code",
   "execution_count": 53,
   "id": "3b097996",
   "metadata": {},
   "outputs": [],
   "source": [
    "#Another way is to count the maximum spaces found is all messages:"
   ]
  },
  {
   "cell_type": "code",
   "execution_count": 54,
   "id": "ec773408",
   "metadata": {},
   "outputs": [],
   "source": [
    "L = guess_key_re_filter(encrypted_message, key_size=3, filter_result=False)\n",
    "max_space_count = 0\n",
    "message = ''\n",
    "pos = ''\n",
    "for i in range(len(L)):\n",
    "    count = L[i][1].count(\" \")\n",
    "    if count > max_space_count:\n",
    "        max_space_count = count\n",
    "        message = L[i][1]\n",
    "        pos = i"
   ]
  },
  {
   "cell_type": "code",
   "execution_count": 55,
   "id": "2d1e2b88",
   "metadata": {},
   "outputs": [
    {
     "data": {
      "text/plain": [
       "197"
      ]
     },
     "execution_count": 55,
     "metadata": {},
     "output_type": "execute_result"
    }
   ],
   "source": [
    "#the maximum spaces that were found:\n",
    "max_space_count"
   ]
  },
  {
   "cell_type": "code",
   "execution_count": 57,
   "id": "e87b5d8a",
   "metadata": {},
   "outputs": [
    {
     "data": {
      "text/plain": [
       "'mob'"
      ]
     },
     "execution_count": 57,
     "metadata": {},
     "output_type": "execute_result"
    }
   ],
   "source": [
    "#for code\n",
    "L[pos][0]"
   ]
  },
  {
   "cell_type": "code",
   "execution_count": 50,
   "id": "27537089",
   "metadata": {},
   "outputs": [],
   "source": [
    "#We can also plot it using pandas and matplotlib."
   ]
  },
  {
   "cell_type": "code",
   "execution_count": 78,
   "id": "d04bd41a",
   "metadata": {},
   "outputs": [
    {
     "data": {
      "image/png": "[encoded data removed]",
      "text/plain": [
       "<Figure size 640x480 with 1 Axes>"
      ]
     },
     "metadata": {},
     "output_type": "display_data"
    }
   ],
   "source": [
    "import pandas as pd\n",
    "import matplotlib.pyplot as plt\n",
    "\n",
    "L = guess_key_re_filter(encrypted_message, key_size=3, filter_result=False)\n",
    "keys = []\n",
    "spaces = []\n",
    "for i in range(len(L)):\n",
    "    spaces.append(L[i][1].count(\" \"))\n",
    "    keys.append(L[i][0])\n",
    "\n",
    "# Create a pandas dataframe from x and y lists\n",
    "df = pd.DataFrame({'Keys':keys, 'Spaces': spaces})\n",
    "\n",
    "# Sort the dataframe by count in descending order\n",
    "df = df.sort_values('Spaces', ascending=False)\n",
    "\n",
    "# Take the top 5 rows\n",
    "top_5 = df[:5]\n",
    "\n",
    "# plot the first 5 values in a horizontal bar chart\n",
    "ax = top_5.plot(kind='barh', x='Keys', y='Spaces', color='blue')\n",
    "\n",
    "# set the plot title and labels\n",
    "ax.set_title('Top 5 Keys by Number of Spaces')\n",
    "ax.set_xlabel('Number of Spaces')\n",
    "ax.set_ylabel('Keys')\n",
    "\n",
    "plt.show()"
   ]
  },
  {
   "cell_type": "code",
   "execution_count": 79,
   "id": "7de65a7a",
   "metadata": {},
   "outputs": [
    {
     "data": {
      "text/html": [
       "<div>\n",
       "<style scoped>\n",
       "    .dataframe tbody tr th:only-of-type {\n",
       "        vertical-align: middle;\n",
       "    }\n",
       "\n",
       "    .dataframe tbody tr th {\n",
       "        vertical-align: top;\n",
       "    }\n",
       "\n",
       "    .dataframe thead th {\n",
       "        text-align: right;\n",
       "    }\n",
       "</style>\n",
       "<table border=\"1\" class=\"dataframe\">\n",
       "  <thead>\n",
       "    <tr style=\"text-align: right;\">\n",
       "      <th></th>\n",
       "      <th>Keys</th>\n",
       "      <th>Spaces</th>\n",
       "    </tr>\n",
       "  </thead>\n",
       "  <tbody>\n",
       "    <tr>\n",
       "      <th>8477</th>\n",
       "      <td>mob</td>\n",
       "      <td>197</td>\n",
       "    </tr>\n",
       "    <tr>\n",
       "      <th>8165</th>\n",
       "      <td>mcb</td>\n",
       "      <td>142</td>\n",
       "    </tr>\n",
       "    <tr>\n",
       "      <th>8139</th>\n",
       "      <td>mbb</td>\n",
       "      <td>140</td>\n",
       "    </tr>\n",
       "    <tr>\n",
       "      <th>8607</th>\n",
       "      <td>mtb</td>\n",
       "      <td>139</td>\n",
       "    </tr>\n",
       "    <tr>\n",
       "      <th>8113</th>\n",
       "      <td>mab</td>\n",
       "      <td>139</td>\n",
       "    </tr>\n",
       "  </tbody>\n",
       "</table>\n",
       "</div>"
      ],
      "text/plain": [
       "     Keys  Spaces\n",
       "8477  mob     197\n",
       "8165  mcb     142\n",
       "8139  mbb     140\n",
       "8607  mtb     139\n",
       "8113  mab     139"
      ]
     },
     "execution_count": 79,
     "metadata": {},
     "output_type": "execute_result"
    }
   ],
   "source": [
    "top_5"
   ]
  },
  {
   "cell_type": "markdown",
   "id": "4c6607a1",
   "metadata": {},
   "source": [
    "4.\tUsing any Python test framework of your choice, write basic tests to ensure guess_key is working as expected (including testing of your filtering mechanism or error handling if such exists)."
   ]
  },
  {
   "cell_type": "code",
   "execution_count": 117,
   "id": "10f09188",
   "metadata": {},
   "outputs": [],
   "source": [
    "#Check python file for full answer... pytest did not run very well for me in jupyter notebook"
   ]
  },
  {
   "cell_type": "code",
   "execution_count": 15,
   "id": "4439a6ac",
   "metadata": {},
   "outputs": [],
   "source": [
    "#writing our own xor_encrypt(normal_text, key) function that will return an encrypt list of numbers."
   ]
  },
  {
   "cell_type": "code",
   "execution_count": 118,
   "id": "5b3c780e",
   "metadata": {},
   "outputs": [],
   "source": [
    "def xor_encrypt(normal_text, key):\n",
    "    # Convert the key to a list of ASCII codes\n",
    "    key_codes = [ord(c) for c in key]\n",
    "    # Convert the normal text input to list of ASCII decinal codes.\n",
    "    Ascii_List = [ord(i) for i in normal_text]\n",
    "    # Encrypt each byte of the normal text list using the key\n",
    "    Encrypted_bytes = [byte ^ key_codes[i % len(key_codes)] for i, byte in enumerate(Ascii_List)]\n",
    "    return Encrypted_bytes"
   ]
  },
  {
   "cell_type": "code",
   "execution_count": 119,
   "id": "b18ba312",
   "metadata": {},
   "outputs": [
    {
     "name": "stdout",
     "output_type": "stream",
     "text": [
      "message spaces:  36\n",
      "message length:  214\n",
      "estimated spaces:  31\n"
     ]
    }
   ],
   "source": [
    "secret_message = (\"Most secret operational order No. 3. In accordance with agreement with Japan, U-boat war is to be extended to include all enemy ships in the western Atlantic as far as 35 degrees West longitude, regardless of flag.\")\n",
    "print(\"message spaces: \", secret_message.count(\" \"))\n",
    "print(\"message length: \", len(secret_message))\n",
    "key = \"xy\"\n",
    "encrypt_message = xor_encrypt(secret_message, key)\n",
    "print(\"estimated spaces: \", round(0.7*(len(encrypt_message)/4.7-1)))"
   ]
  },
  {
   "cell_type": "code",
   "execution_count": 120,
   "id": "5e2df65d",
   "metadata": {},
   "outputs": [],
   "source": [
    "result = guess_key_space_filter(encrypt_message, len(key), spaces_th= round(0.7*(len(encrypt_message)/4.7-1)))"
   ]
  },
  {
   "cell_type": "code",
   "execution_count": 121,
   "id": "8c678933",
   "metadata": {},
   "outputs": [
    {
     "data": {
      "text/plain": [
       "[('xy',\n",
       "  'Most secret operational order No. 3. In accordance with agreement with Japan, U-boat war is to be extended to include all enemy ships in the western Atlantic as far as 35 degrees West longitude, regardless of flag.')]"
      ]
     },
     "execution_count": 121,
     "metadata": {},
     "output_type": "execute_result"
    }
   ],
   "source": [
    "result"
   ]
  },
  {
   "cell_type": "code",
   "execution_count": 72,
   "id": "df9645fe",
   "metadata": {},
   "outputs": [],
   "source": [
    "import testbook\n",
    "import pytest"
   ]
  },
  {
   "cell_type": "code",
   "execution_count": 96,
   "id": "8302bd0b",
   "metadata": {},
   "outputs": [],
   "source": [
    "def test_guess_key_space_filter():\n",
    "    # Create a sample encrypted message and key\n",
    "    message = (\"Most secret operational order No. 3. In accordance with agreement with Japan, U-boat war is to be extended to include all enemy ships in the western Atlantic as far as 35 degrees West longitude, regardless of flag.\")\n",
    "    key = \"xy\"\n",
    "    encrypt_message = xor_encrypt(message, key)\n",
    "\n",
    "    # Test with default parameters\n",
    "    est_spaces_th = round(0.7*(len(encrypt_message)/4.7-1))\n",
    "    result = guess_key_space_filter(encrypt_message, key_size = len(key), filter_result=True, spaces_th = guess_spaces_th)\n",
    "    assert len(result) == 1\n",
    "    assert result[0][0] == key\n",
    "    assert result[0][1] == message\n",
    "\n",
    "@testbook.testbook(r'C:\\Users\\JonathanDanzig\\Downloads\\q\\q.ipynb', execute=True, timeout=60)\n",
    "def test_my_notebook(tb):\n",
    "\n",
    "    # Call the function that contains your test\n",
    "    test_guess_key_space_filter()\n",
    "    \n",
    "    # Check that the test passed\n",
    "    assert '1 passed' in tb.execute_cell('!pytest --verbose')['stdout']\n",
    "    "
   ]
  }
 ],
 "metadata": {
  "kernelspec": {
   "display_name": "Python 3 (ipykernel)",
   "language": "python",
   "name": "python3"
  },
  "language_info": {
   "codemirror_mode": {
    "name": "ipython",
    "version": 3
   },
   "file_extension": ".py",
   "mimetype": "text/x-python",
   "name": "python",
   "nbconvert_exporter": "python",
   "pygments_lexer": "ipython3",
   "version": "3.11.2"
  }
 },
 "nbformat": 4,
 "nbformat_minor": 5
}
